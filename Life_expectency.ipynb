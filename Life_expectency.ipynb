{
 "cells": [
  {
   "cell_type": "code",
   "execution_count": 5,
   "metadata": {
    "collapsed": true
   },
   "outputs": [],
   "source": [
    "import pandas as pd\n",
    "import numpy\n",
    "from sklearn.model_selection import train_test_split"
   ]
  },
  {
   "cell_type": "code",
   "execution_count": 24,
   "outputs": [],
   "source": [
    "data = pd.read_csv(\"https://raw.githubusercontent.com/AnjanayKhare/Machine-Learining/main/Life_Expectancy%20-%20Life_Expectancy.csv\")"
   ],
   "metadata": {
    "collapsed": false
   }
  },
  {
   "cell_type": "code",
   "execution_count": 9,
   "outputs": [
    {
     "name": "stdout",
     "output_type": "stream",
     "text": [
      "     Status      Country\n",
      "0         0  Afghanistan\n",
      "1         0      Albania\n",
      "2         0      Algeria\n",
      "3         0       Angola\n",
      "4         0    Argentina\n",
      "..      ...          ...\n",
      "119       0    Venezuela\n",
      "120       0     Viet Nam\n",
      "121       0        Yemen\n",
      "122       0       Zambia\n",
      "123       0     Zimbabwe\n",
      "\n",
      "[124 rows x 2 columns]\n"
     ]
    }
   ],
   "source": [
    "data_frame = pd.DataFrame(data, columns=[\"Country\", \"Status\"])\n",
    "# print(data_frame)\n",
    "\n",
    "# converting to binary data\n",
    "df_one = pd.get_dummies(data_frame[\"Status\"])\n",
    "# print(df_one)\n",
    "\n",
    "# display result\n",
    "df_two = pd.concat((df_one, data_frame), axis=1)\n",
    "df_two = df_two.drop([\"Status\"], axis=1)\n",
    "df_two = df_two.drop([\"Developing\"], axis=1)\n",
    "result = df_two.rename(columns={\"Developed\": \"Status\"})\n",
    "print(result)\n"
   ],
   "metadata": {
    "collapsed": false
   }
  },
  {
   "cell_type": "code",
   "execution_count": 13,
   "outputs": [],
   "source": [
    "data['Status'] = result['Status']"
   ],
   "metadata": {
    "collapsed": false
   }
  },
  {
   "cell_type": "code",
   "execution_count": 14,
   "outputs": [
    {
     "data": {
      "text/plain": "         Country  Status  Adult_Mortality  Infant_Deaths  Hepatitis  Measles  \\\n0    Afghanistan       0              263             62         65     1154   \n1        Albania       0                8              0         98        0   \n2        Algeria       0               19             21         95       63   \n3         Angola       0              335             66         64      118   \n4      Argentina       0              116              8         94        0   \n..           ...     ...              ...            ...        ...      ...   \n119    Venezuela       0               37             24         95      129   \n120     Viet Nam       0              397             26         89      386   \n121        Yemen       0               48             29         96     1064   \n122       Zambia       0              415             31         88     2738   \n123     Zimbabwe       0              438             33         85      896   \n\n      BMI  Underfive_Deaths  Polio  Diphtheria  HIV           GDP  Population  \\\n0    19.1                83      6          65  0.1    584.259210    33736494   \n1    57.2                 1     98          98  0.1   4575.763787      288914   \n2    59.5                24     95          95  0.1   4132.762920    39871528   \n3    23.3                98      7          64  1.9   3695.793748     2785935   \n4    62.8                 9     93          94  0.1  13467.123600    43417765   \n..    ...               ...    ...         ...  ...           ...         ...   \n119  15.4                38     95          95  7.1    287.931877     8991735   \n120  14.9                42     89          89  7.7    236.911438     8818438   \n121  14.5                46     96          96  8.1    212.661949      868346   \n122  14.1                50     85          88  8.0    196.597780      853625   \n123  13.7                54     76          77  8.1     21.569654      832946   \n\n     Malnourished10_19  Malnourished5_9  Income_Index  Schooling  Expected  \n0                 17.2             17.3         0.479       10.1      65.0  \n1                  1.2              1.3         0.761       14.2      77.5  \n2                  6.0              5.8         0.743       14.4      75.6  \n3                  8.3              8.2         0.531       11.4      52.4  \n4                  1.0              0.9         0.826       17.3      76.3  \n..                 ...              ...           ...        ...       ...  \n119                6.8              7.0         0.388        8.8      55.3  \n120                6.9              7.1         0.371        8.2      53.4  \n121                7.0              7.3         0.359        7.6      52.0  \n122                7.2              7.4         0.343        7.2      57.0  \n123                7.4              7.5         0.332        7.1      48.6  \n\n[124 rows x 18 columns]",
      "text/html": "<div>\n<style scoped>\n    .dataframe tbody tr th:only-of-type {\n        vertical-align: middle;\n    }\n\n    .dataframe tbody tr th {\n        vertical-align: top;\n    }\n\n    .dataframe thead th {\n        text-align: right;\n    }\n</style>\n<table border=\"1\" class=\"dataframe\">\n  <thead>\n    <tr style=\"text-align: right;\">\n      <th></th>\n      <th>Country</th>\n      <th>Status</th>\n      <th>Adult_Mortality</th>\n      <th>Infant_Deaths</th>\n      <th>Hepatitis</th>\n      <th>Measles</th>\n      <th>BMI</th>\n      <th>Underfive_Deaths</th>\n      <th>Polio</th>\n      <th>Diphtheria</th>\n      <th>HIV</th>\n      <th>GDP</th>\n      <th>Population</th>\n      <th>Malnourished10_19</th>\n      <th>Malnourished5_9</th>\n      <th>Income_Index</th>\n      <th>Schooling</th>\n      <th>Expected</th>\n    </tr>\n  </thead>\n  <tbody>\n    <tr>\n      <th>0</th>\n      <td>Afghanistan</td>\n      <td>0</td>\n      <td>263</td>\n      <td>62</td>\n      <td>65</td>\n      <td>1154</td>\n      <td>19.1</td>\n      <td>83</td>\n      <td>6</td>\n      <td>65</td>\n      <td>0.1</td>\n      <td>584.259210</td>\n      <td>33736494</td>\n      <td>17.2</td>\n      <td>17.3</td>\n      <td>0.479</td>\n      <td>10.1</td>\n      <td>65.0</td>\n    </tr>\n    <tr>\n      <th>1</th>\n      <td>Albania</td>\n      <td>0</td>\n      <td>8</td>\n      <td>0</td>\n      <td>98</td>\n      <td>0</td>\n      <td>57.2</td>\n      <td>1</td>\n      <td>98</td>\n      <td>98</td>\n      <td>0.1</td>\n      <td>4575.763787</td>\n      <td>288914</td>\n      <td>1.2</td>\n      <td>1.3</td>\n      <td>0.761</td>\n      <td>14.2</td>\n      <td>77.5</td>\n    </tr>\n    <tr>\n      <th>2</th>\n      <td>Algeria</td>\n      <td>0</td>\n      <td>19</td>\n      <td>21</td>\n      <td>95</td>\n      <td>63</td>\n      <td>59.5</td>\n      <td>24</td>\n      <td>95</td>\n      <td>95</td>\n      <td>0.1</td>\n      <td>4132.762920</td>\n      <td>39871528</td>\n      <td>6.0</td>\n      <td>5.8</td>\n      <td>0.743</td>\n      <td>14.4</td>\n      <td>75.6</td>\n    </tr>\n    <tr>\n      <th>3</th>\n      <td>Angola</td>\n      <td>0</td>\n      <td>335</td>\n      <td>66</td>\n      <td>64</td>\n      <td>118</td>\n      <td>23.3</td>\n      <td>98</td>\n      <td>7</td>\n      <td>64</td>\n      <td>1.9</td>\n      <td>3695.793748</td>\n      <td>2785935</td>\n      <td>8.3</td>\n      <td>8.2</td>\n      <td>0.531</td>\n      <td>11.4</td>\n      <td>52.4</td>\n    </tr>\n    <tr>\n      <th>4</th>\n      <td>Argentina</td>\n      <td>0</td>\n      <td>116</td>\n      <td>8</td>\n      <td>94</td>\n      <td>0</td>\n      <td>62.8</td>\n      <td>9</td>\n      <td>93</td>\n      <td>94</td>\n      <td>0.1</td>\n      <td>13467.123600</td>\n      <td>43417765</td>\n      <td>1.0</td>\n      <td>0.9</td>\n      <td>0.826</td>\n      <td>17.3</td>\n      <td>76.3</td>\n    </tr>\n    <tr>\n      <th>...</th>\n      <td>...</td>\n      <td>...</td>\n      <td>...</td>\n      <td>...</td>\n      <td>...</td>\n      <td>...</td>\n      <td>...</td>\n      <td>...</td>\n      <td>...</td>\n      <td>...</td>\n      <td>...</td>\n      <td>...</td>\n      <td>...</td>\n      <td>...</td>\n      <td>...</td>\n      <td>...</td>\n      <td>...</td>\n      <td>...</td>\n    </tr>\n    <tr>\n      <th>119</th>\n      <td>Venezuela</td>\n      <td>0</td>\n      <td>37</td>\n      <td>24</td>\n      <td>95</td>\n      <td>129</td>\n      <td>15.4</td>\n      <td>38</td>\n      <td>95</td>\n      <td>95</td>\n      <td>7.1</td>\n      <td>287.931877</td>\n      <td>8991735</td>\n      <td>6.8</td>\n      <td>7.0</td>\n      <td>0.388</td>\n      <td>8.8</td>\n      <td>55.3</td>\n    </tr>\n    <tr>\n      <th>120</th>\n      <td>Viet Nam</td>\n      <td>0</td>\n      <td>397</td>\n      <td>26</td>\n      <td>89</td>\n      <td>386</td>\n      <td>14.9</td>\n      <td>42</td>\n      <td>89</td>\n      <td>89</td>\n      <td>7.7</td>\n      <td>236.911438</td>\n      <td>8818438</td>\n      <td>6.9</td>\n      <td>7.1</td>\n      <td>0.371</td>\n      <td>8.2</td>\n      <td>53.4</td>\n    </tr>\n    <tr>\n      <th>121</th>\n      <td>Yemen</td>\n      <td>0</td>\n      <td>48</td>\n      <td>29</td>\n      <td>96</td>\n      <td>1064</td>\n      <td>14.5</td>\n      <td>46</td>\n      <td>96</td>\n      <td>96</td>\n      <td>8.1</td>\n      <td>212.661949</td>\n      <td>868346</td>\n      <td>7.0</td>\n      <td>7.3</td>\n      <td>0.359</td>\n      <td>7.6</td>\n      <td>52.0</td>\n    </tr>\n    <tr>\n      <th>122</th>\n      <td>Zambia</td>\n      <td>0</td>\n      <td>415</td>\n      <td>31</td>\n      <td>88</td>\n      <td>2738</td>\n      <td>14.1</td>\n      <td>50</td>\n      <td>85</td>\n      <td>88</td>\n      <td>8.0</td>\n      <td>196.597780</td>\n      <td>853625</td>\n      <td>7.2</td>\n      <td>7.4</td>\n      <td>0.343</td>\n      <td>7.2</td>\n      <td>57.0</td>\n    </tr>\n    <tr>\n      <th>123</th>\n      <td>Zimbabwe</td>\n      <td>0</td>\n      <td>438</td>\n      <td>33</td>\n      <td>85</td>\n      <td>896</td>\n      <td>13.7</td>\n      <td>54</td>\n      <td>76</td>\n      <td>77</td>\n      <td>8.1</td>\n      <td>21.569654</td>\n      <td>832946</td>\n      <td>7.4</td>\n      <td>7.5</td>\n      <td>0.332</td>\n      <td>7.1</td>\n      <td>48.6</td>\n    </tr>\n  </tbody>\n</table>\n<p>124 rows × 18 columns</p>\n</div>"
     },
     "execution_count": 14,
     "metadata": {},
     "output_type": "execute_result"
    }
   ],
   "source": [
    "data"
   ],
   "metadata": {
    "collapsed": false
   }
  },
  {
   "cell_type": "code",
   "execution_count": 15,
   "outputs": [
    {
     "data": {
      "text/plain": "Country              0\nStatus               0\nAdult_Mortality      0\nInfant_Deaths        0\nHepatitis            0\nMeasles              0\nBMI                  0\nUnderfive_Deaths     0\nPolio                0\nDiphtheria           0\nHIV                  0\nGDP                  0\nPopulation           0\nMalnourished10_19    0\nMalnourished5_9      0\nIncome_Index         0\nSchooling            0\nExpected             0\ndtype: int64"
     },
     "execution_count": 15,
     "metadata": {},
     "output_type": "execute_result"
    }
   ],
   "source": [
    "data.isnull().sum()"
   ],
   "metadata": {
    "collapsed": false
   }
  },
  {
   "cell_type": "code",
   "execution_count": 25,
   "outputs": [],
   "source": [
    "d1 = data.drop(, axis=1)"
   ],
   "metadata": {
    "collapsed": false
   }
  },
  {
   "cell_type": "code",
   "execution_count": 38,
   "outputs": [],
   "source": [
    "x = data.drop(['Country', 'Status','Expected'], axis=1)\n",
    "y = data['Expected']"
   ],
   "metadata": {
    "collapsed": false
   }
  },
  {
   "cell_type": "code",
   "execution_count": 39,
   "outputs": [],
   "source": [
    "from sklearn.model_selection import train_test_split\n",
    "X_train, X_test, y_train, y_test = train_test_split(x, y, test_size = .2, random_state = 0)"
   ],
   "metadata": {
    "collapsed": false
   }
  },
  {
   "cell_type": "code",
   "execution_count": 40,
   "outputs": [
    {
     "data": {
      "text/plain": "LinearRegression()",
      "text/html": "<style>#sk-container-id-1 {color: black;background-color: white;}#sk-container-id-1 pre{padding: 0;}#sk-container-id-1 div.sk-toggleable {background-color: white;}#sk-container-id-1 label.sk-toggleable__label {cursor: pointer;display: block;width: 100%;margin-bottom: 0;padding: 0.3em;box-sizing: border-box;text-align: center;}#sk-container-id-1 label.sk-toggleable__label-arrow:before {content: \"▸\";float: left;margin-right: 0.25em;color: #696969;}#sk-container-id-1 label.sk-toggleable__label-arrow:hover:before {color: black;}#sk-container-id-1 div.sk-estimator:hover label.sk-toggleable__label-arrow:before {color: black;}#sk-container-id-1 div.sk-toggleable__content {max-height: 0;max-width: 0;overflow: hidden;text-align: left;background-color: #f0f8ff;}#sk-container-id-1 div.sk-toggleable__content pre {margin: 0.2em;color: black;border-radius: 0.25em;background-color: #f0f8ff;}#sk-container-id-1 input.sk-toggleable__control:checked~div.sk-toggleable__content {max-height: 200px;max-width: 100%;overflow: auto;}#sk-container-id-1 input.sk-toggleable__control:checked~label.sk-toggleable__label-arrow:before {content: \"▾\";}#sk-container-id-1 div.sk-estimator input.sk-toggleable__control:checked~label.sk-toggleable__label {background-color: #d4ebff;}#sk-container-id-1 div.sk-label input.sk-toggleable__control:checked~label.sk-toggleable__label {background-color: #d4ebff;}#sk-container-id-1 input.sk-hidden--visually {border: 0;clip: rect(1px 1px 1px 1px);clip: rect(1px, 1px, 1px, 1px);height: 1px;margin: -1px;overflow: hidden;padding: 0;position: absolute;width: 1px;}#sk-container-id-1 div.sk-estimator {font-family: monospace;background-color: #f0f8ff;border: 1px dotted black;border-radius: 0.25em;box-sizing: border-box;margin-bottom: 0.5em;}#sk-container-id-1 div.sk-estimator:hover {background-color: #d4ebff;}#sk-container-id-1 div.sk-parallel-item::after {content: \"\";width: 100%;border-bottom: 1px solid gray;flex-grow: 1;}#sk-container-id-1 div.sk-label:hover label.sk-toggleable__label {background-color: #d4ebff;}#sk-container-id-1 div.sk-serial::before {content: \"\";position: absolute;border-left: 1px solid gray;box-sizing: border-box;top: 0;bottom: 0;left: 50%;z-index: 0;}#sk-container-id-1 div.sk-serial {display: flex;flex-direction: column;align-items: center;background-color: white;padding-right: 0.2em;padding-left: 0.2em;position: relative;}#sk-container-id-1 div.sk-item {position: relative;z-index: 1;}#sk-container-id-1 div.sk-parallel {display: flex;align-items: stretch;justify-content: center;background-color: white;position: relative;}#sk-container-id-1 div.sk-item::before, #sk-container-id-1 div.sk-parallel-item::before {content: \"\";position: absolute;border-left: 1px solid gray;box-sizing: border-box;top: 0;bottom: 0;left: 50%;z-index: -1;}#sk-container-id-1 div.sk-parallel-item {display: flex;flex-direction: column;z-index: 1;position: relative;background-color: white;}#sk-container-id-1 div.sk-parallel-item:first-child::after {align-self: flex-end;width: 50%;}#sk-container-id-1 div.sk-parallel-item:last-child::after {align-self: flex-start;width: 50%;}#sk-container-id-1 div.sk-parallel-item:only-child::after {width: 0;}#sk-container-id-1 div.sk-dashed-wrapped {border: 1px dashed gray;margin: 0 0.4em 0.5em 0.4em;box-sizing: border-box;padding-bottom: 0.4em;background-color: white;}#sk-container-id-1 div.sk-label label {font-family: monospace;font-weight: bold;display: inline-block;line-height: 1.2em;}#sk-container-id-1 div.sk-label-container {text-align: center;}#sk-container-id-1 div.sk-container {/* jupyter's `normalize.less` sets `[hidden] { display: none; }` but bootstrap.min.css set `[hidden] { display: none !important; }` so we also need the `!important` here to be able to override the default hidden behavior on the sphinx rendered scikit-learn.org. See: https://github.com/scikit-learn/scikit-learn/issues/21755 */display: inline-block !important;position: relative;}#sk-container-id-1 div.sk-text-repr-fallback {display: none;}</style><div id=\"sk-container-id-1\" class=\"sk-top-container\"><div class=\"sk-text-repr-fallback\"><pre>LinearRegression()</pre><b>In a Jupyter environment, please rerun this cell to show the HTML representation or trust the notebook. <br />On GitHub, the HTML representation is unable to render, please try loading this page with nbviewer.org.</b></div><div class=\"sk-container\" hidden><div class=\"sk-item\"><div class=\"sk-estimator sk-toggleable\"><input class=\"sk-toggleable__control sk-hidden--visually\" id=\"sk-estimator-id-1\" type=\"checkbox\" checked><label for=\"sk-estimator-id-1\" class=\"sk-toggleable__label sk-toggleable__label-arrow\">LinearRegression</label><div class=\"sk-toggleable__content\"><pre>LinearRegression()</pre></div></div></div></div></div>"
     },
     "execution_count": 40,
     "metadata": {},
     "output_type": "execute_result"
    }
   ],
   "source": [
    "from sklearn.linear_model import LinearRegression\n",
    "regressor = LinearRegression()\n",
    "regressor.fit(X_train, y_train)"
   ],
   "metadata": {
    "collapsed": false
   }
  },
  {
   "cell_type": "code",
   "execution_count": 41,
   "outputs": [],
   "source": [
    "y_pred = regressor.predict(X_test)"
   ],
   "metadata": {
    "collapsed": false
   }
  },
  {
   "cell_type": "code",
   "execution_count": 46,
   "outputs": [
    {
     "data": {
      "text/plain": "array([74.70768001, 70.24649499, 75.2535887 , 50.83548432, 77.17870071,\n       69.70504683, 73.66736304, 79.13562316, 81.88197782, 65.54393443,\n       68.00364114, 75.44362111, 73.51702096, 59.37930102, 68.1047556 ,\n       75.37944934, 70.00710812, 72.2110978 , 68.79428364, 65.69700464,\n       82.04124494, 70.06203919, 76.71630235, 74.48653684, 66.88842545])"
     },
     "execution_count": 46,
     "metadata": {},
     "output_type": "execute_result"
    }
   ],
   "source": [
    "y_pred"
   ],
   "metadata": {
    "collapsed": false
   }
  },
  {
   "cell_type": "code",
   "execution_count": null,
   "outputs": [],
   "source": [],
   "metadata": {
    "collapsed": false
   }
  }
 ],
 "metadata": {
  "kernelspec": {
   "display_name": "Python 3",
   "language": "python",
   "name": "python3"
  },
  "language_info": {
   "codemirror_mode": {
    "name": "ipython",
    "version": 2
   },
   "file_extension": ".py",
   "mimetype": "text/x-python",
   "name": "python",
   "nbconvert_exporter": "python",
   "pygments_lexer": "ipython2",
   "version": "2.7.6"
  }
 },
 "nbformat": 4,
 "nbformat_minor": 0
}
